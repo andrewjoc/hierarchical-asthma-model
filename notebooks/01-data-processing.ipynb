{
 "cells": [
  {
   "cell_type": "code",
   "execution_count": 1,
   "id": "7f3d4833-d2f8-4e36-b222-05114267650f",
   "metadata": {},
   "outputs": [],
   "source": [
    "import pandas as pd\n",
    "import numpy as np\n",
    "import os\n",
    "\n",
    "from pathlib import Path\n",
    "\n",
    "raw_data_path = Path('../data/raw')\n",
    "output_folder_path = Path('../data/processed')"
   ]
  },
  {
   "cell_type": "code",
   "execution_count": 2,
   "id": "a3e9d717-53e5-4b69-ad71-94cfbc310ac5",
   "metadata": {},
   "outputs": [
    {
     "data": {
      "text/plain": [
       "['county_asthma_prevalence.csv',\n",
       " 'oz_county_avg_2016-2020.csv',\n",
       " 'us_fips_codes.csv',\n",
       " 'pm25_county_avg_2016-2020.csv',\n",
       " 'asthma_ed_visit.csv',\n",
       " 'county_populations_2010-2019.xlsx',\n",
       " '.ipynb_checkpoints',\n",
       " 'pm25_county_avg.csv',\n",
       " 'oz_county_avg.csv']"
      ]
     },
     "execution_count": 2,
     "metadata": {},
     "output_type": "execute_result"
    }
   ],
   "source": [
    "os.listdir('../data/raw')"
   ]
  },
  {
   "cell_type": "markdown",
   "id": "64cb07cf-4cf2-4ab0-9b15-ffb2b60bd9dc",
   "metadata": {},
   "source": [
    "---"
   ]
  },
  {
   "cell_type": "markdown",
   "id": "b40ec0a5-6bf2-41a0-a38e-f09416ea2608",
   "metadata": {},
   "source": [
    "### FIPS codes\n",
    "\n",
    "- source: https://github.com/kjhealy/fips-codes/blob/master/state_and_county_fips_master.csv"
   ]
  },
  {
   "cell_type": "code",
   "execution_count": 56,
   "id": "efe26de3-e3f7-437e-ba95-5248f909c3c8",
   "metadata": {},
   "outputs": [],
   "source": [
    "us_fips = pd.read_csv(os.path.join(raw_data_path, 'us_fips_codes.csv'))\n",
    "ca_fips = us_fips[us_fips['state'] == 'CA'].copy()\n",
    "ca_fips['name'] = ca_fips['name'].str.extract(r'(.+) County')\n",
    "ca_fips = ca_fips.rename(columns={'name':'county'})"
   ]
  },
  {
   "cell_type": "code",
   "execution_count": 57,
   "id": "3ce1cabf-07aa-4c53-a451-98c5f75f2d53",
   "metadata": {},
   "outputs": [
    {
     "data": {
      "text/html": [
       "<div>\n",
       "<style scoped>\n",
       "    .dataframe tbody tr th:only-of-type {\n",
       "        vertical-align: middle;\n",
       "    }\n",
       "\n",
       "    .dataframe tbody tr th {\n",
       "        vertical-align: top;\n",
       "    }\n",
       "\n",
       "    .dataframe thead th {\n",
       "        text-align: right;\n",
       "    }\n",
       "</style>\n",
       "<table border=\"1\" class=\"dataframe\">\n",
       "  <thead>\n",
       "    <tr style=\"text-align: right;\">\n",
       "      <th></th>\n",
       "      <th>fips</th>\n",
       "      <th>county</th>\n",
       "      <th>state</th>\n",
       "    </tr>\n",
       "  </thead>\n",
       "  <tbody>\n",
       "    <tr>\n",
       "      <th>192</th>\n",
       "      <td>6001</td>\n",
       "      <td>Alameda</td>\n",
       "      <td>CA</td>\n",
       "    </tr>\n",
       "    <tr>\n",
       "      <th>193</th>\n",
       "      <td>6003</td>\n",
       "      <td>Alpine</td>\n",
       "      <td>CA</td>\n",
       "    </tr>\n",
       "    <tr>\n",
       "      <th>194</th>\n",
       "      <td>6005</td>\n",
       "      <td>Amador</td>\n",
       "      <td>CA</td>\n",
       "    </tr>\n",
       "    <tr>\n",
       "      <th>195</th>\n",
       "      <td>6007</td>\n",
       "      <td>Butte</td>\n",
       "      <td>CA</td>\n",
       "    </tr>\n",
       "    <tr>\n",
       "      <th>196</th>\n",
       "      <td>6009</td>\n",
       "      <td>Calaveras</td>\n",
       "      <td>CA</td>\n",
       "    </tr>\n",
       "  </tbody>\n",
       "</table>\n",
       "</div>"
      ],
      "text/plain": [
       "     fips     county state\n",
       "192  6001    Alameda    CA\n",
       "193  6003     Alpine    CA\n",
       "194  6005     Amador    CA\n",
       "195  6007      Butte    CA\n",
       "196  6009  Calaveras    CA"
      ]
     },
     "execution_count": 57,
     "metadata": {},
     "output_type": "execute_result"
    }
   ],
   "source": [
    "ca_fips.head()"
   ]
  },
  {
   "cell_type": "code",
   "execution_count": 58,
   "id": "7e14a17c-a64c-4f80-b5f9-a7e9c018f317",
   "metadata": {},
   "outputs": [],
   "source": [
    "#ca_fips.to_csv(path_or_buf= os.path.join(output_folder_path, 'ca_fips.csv'), index=False)"
   ]
  },
  {
   "cell_type": "markdown",
   "id": "4123d3f8-0c00-4591-848b-db5dcaa1c7f3",
   "metadata": {},
   "source": [
    "---"
   ]
  },
  {
   "cell_type": "markdown",
   "id": "c3cd988e-fc06-4322-a5a1-54f11416a03f",
   "metadata": {},
   "source": [
    "### PM2.5 Data"
   ]
  },
  {
   "cell_type": "code",
   "execution_count": 8,
   "id": "f43d4f4b-ec65-4560-9e46-e8bf416a0cd4",
   "metadata": {},
   "outputs": [],
   "source": [
    "pm_data = pd.read_csv(os.path.join(raw_data_path, 'pm25_county_avg.csv'))\n",
    "pm_data['countyfips'] = pm_data['countyfips'] + 6000"
   ]
  },
  {
   "cell_type": "code",
   "execution_count": 9,
   "id": "34848a4d-5ae0-4bfd-80b6-118b3ac42060",
   "metadata": {},
   "outputs": [
    {
     "data": {
      "text/html": [
       "<div>\n",
       "<style scoped>\n",
       "    .dataframe tbody tr th:only-of-type {\n",
       "        vertical-align: middle;\n",
       "    }\n",
       "\n",
       "    .dataframe tbody tr th {\n",
       "        vertical-align: top;\n",
       "    }\n",
       "\n",
       "    .dataframe thead th {\n",
       "        text-align: right;\n",
       "    }\n",
       "</style>\n",
       "<table border=\"1\" class=\"dataframe\">\n",
       "  <thead>\n",
       "    <tr style=\"text-align: right;\">\n",
       "      <th></th>\n",
       "      <th>countyfips</th>\n",
       "      <th>DS_PM_pred</th>\n",
       "      <th>DS_PM_stdd</th>\n",
       "    </tr>\n",
       "  </thead>\n",
       "  <tbody>\n",
       "    <tr>\n",
       "      <th>0</th>\n",
       "      <td>6001</td>\n",
       "      <td>10.095240</td>\n",
       "      <td>3.627715</td>\n",
       "    </tr>\n",
       "    <tr>\n",
       "      <th>1</th>\n",
       "      <td>6101</td>\n",
       "      <td>10.718292</td>\n",
       "      <td>4.210715</td>\n",
       "    </tr>\n",
       "    <tr>\n",
       "      <th>2</th>\n",
       "      <td>6103</td>\n",
       "      <td>9.015758</td>\n",
       "      <td>3.753104</td>\n",
       "    </tr>\n",
       "    <tr>\n",
       "      <th>3</th>\n",
       "      <td>6105</td>\n",
       "      <td>6.894584</td>\n",
       "      <td>3.502783</td>\n",
       "    </tr>\n",
       "    <tr>\n",
       "      <th>4</th>\n",
       "      <td>6107</td>\n",
       "      <td>15.517773</td>\n",
       "      <td>6.683213</td>\n",
       "    </tr>\n",
       "  </tbody>\n",
       "</table>\n",
       "</div>"
      ],
      "text/plain": [
       "   countyfips  DS_PM_pred  DS_PM_stdd\n",
       "0        6001   10.095240    3.627715\n",
       "1        6101   10.718292    4.210715\n",
       "2        6103    9.015758    3.753104\n",
       "3        6105    6.894584    3.502783\n",
       "4        6107   15.517773    6.683213"
      ]
     },
     "execution_count": 9,
     "metadata": {},
     "output_type": "execute_result"
    }
   ],
   "source": [
    "pm_data.head()"
   ]
  },
  {
   "cell_type": "code",
   "execution_count": 16,
   "id": "8f08303e-c22c-4a3b-82e3-d7f23bb9daa0",
   "metadata": {},
   "outputs": [],
   "source": [
    "# pm_data.to_csv(path_or_buf= os.path.join(output_folder_path, 'pm_data.csv'), index=False)"
   ]
  },
  {
   "cell_type": "markdown",
   "id": "8c9adfd2-2d02-455f-835c-298a8d900426",
   "metadata": {},
   "source": [
    "---"
   ]
  },
  {
   "cell_type": "markdown",
   "id": "209b6ee8-1e8d-4aba-a662-dceadb143071",
   "metadata": {},
   "source": [
    "### Ozone Data"
   ]
  },
  {
   "cell_type": "code",
   "execution_count": 11,
   "id": "b6a42329-fd7b-4657-b51e-d16404a9969d",
   "metadata": {},
   "outputs": [],
   "source": [
    "oz_data = pd.read_csv(os.path.join(raw_data_path, 'oz_county_avg.csv'))\n",
    "oz_data['countyfips'] = oz_data['countyfips'] + 6000"
   ]
  },
  {
   "cell_type": "code",
   "execution_count": 12,
   "id": "c20a4b28-3216-4e80-92f8-c69df6e1021e",
   "metadata": {},
   "outputs": [
    {
     "data": {
      "text/html": [
       "<div>\n",
       "<style scoped>\n",
       "    .dataframe tbody tr th:only-of-type {\n",
       "        vertical-align: middle;\n",
       "    }\n",
       "\n",
       "    .dataframe tbody tr th {\n",
       "        vertical-align: top;\n",
       "    }\n",
       "\n",
       "    .dataframe thead th {\n",
       "        text-align: right;\n",
       "    }\n",
       "</style>\n",
       "<table border=\"1\" class=\"dataframe\">\n",
       "  <thead>\n",
       "    <tr style=\"text-align: right;\">\n",
       "      <th></th>\n",
       "      <th>countyfips</th>\n",
       "      <th>DS_O3_pred</th>\n",
       "      <th>DS_O3_stdd</th>\n",
       "    </tr>\n",
       "  </thead>\n",
       "  <tbody>\n",
       "    <tr>\n",
       "      <th>0</th>\n",
       "      <td>6001</td>\n",
       "      <td>31.868148</td>\n",
       "      <td>3.520695</td>\n",
       "    </tr>\n",
       "    <tr>\n",
       "      <th>1</th>\n",
       "      <td>6003</td>\n",
       "      <td>46.396664</td>\n",
       "      <td>5.339098</td>\n",
       "    </tr>\n",
       "    <tr>\n",
       "      <th>2</th>\n",
       "      <td>6005</td>\n",
       "      <td>44.023391</td>\n",
       "      <td>4.515013</td>\n",
       "    </tr>\n",
       "    <tr>\n",
       "      <th>3</th>\n",
       "      <td>6007</td>\n",
       "      <td>42.151413</td>\n",
       "      <td>4.400108</td>\n",
       "    </tr>\n",
       "    <tr>\n",
       "      <th>4</th>\n",
       "      <td>6009</td>\n",
       "      <td>44.858142</td>\n",
       "      <td>4.677322</td>\n",
       "    </tr>\n",
       "  </tbody>\n",
       "</table>\n",
       "</div>"
      ],
      "text/plain": [
       "   countyfips  DS_O3_pred  DS_O3_stdd\n",
       "0        6001   31.868148    3.520695\n",
       "1        6003   46.396664    5.339098\n",
       "2        6005   44.023391    4.515013\n",
       "3        6007   42.151413    4.400108\n",
       "4        6009   44.858142    4.677322"
      ]
     },
     "execution_count": 12,
     "metadata": {},
     "output_type": "execute_result"
    }
   ],
   "source": [
    "oz_data.head()"
   ]
  },
  {
   "cell_type": "code",
   "execution_count": 17,
   "id": "cdb9c8f4-9bea-4f54-a0e2-a035f3a4da17",
   "metadata": {},
   "outputs": [],
   "source": [
    "# oz_data.to_csv(path_or_buf= os.path.join(output_folder_path, 'oz_data.csv'), index=False)"
   ]
  },
  {
   "cell_type": "markdown",
   "id": "48bd66d0-0492-4c4b-98de-51cc515e3913",
   "metadata": {},
   "source": [
    "---"
   ]
  },
  {
   "cell_type": "markdown",
   "id": "2b1d1495-ff17-4b4a-a54c-6f0c6d3196d8",
   "metadata": {},
   "source": [
    "### County Populations (2016 - 2019)"
   ]
  },
  {
   "cell_type": "code",
   "execution_count": 14,
   "id": "414d9e4a-4a11-4b5e-8315-5be6c97bada4",
   "metadata": {},
   "outputs": [
    {
     "data": {
      "text/html": [
       "<div>\n",
       "<style scoped>\n",
       "    .dataframe tbody tr th:only-of-type {\n",
       "        vertical-align: middle;\n",
       "    }\n",
       "\n",
       "    .dataframe tbody tr th {\n",
       "        vertical-align: top;\n",
       "    }\n",
       "\n",
       "    .dataframe thead th {\n",
       "        text-align: right;\n",
       "    }\n",
       "</style>\n",
       "<table border=\"1\" class=\"dataframe\">\n",
       "  <thead>\n",
       "    <tr style=\"text-align: right;\">\n",
       "      <th></th>\n",
       "      <th>county</th>\n",
       "      <th>avg_population</th>\n",
       "    </tr>\n",
       "  </thead>\n",
       "  <tbody>\n",
       "    <tr>\n",
       "      <th>1</th>\n",
       "      <td>Alameda</td>\n",
       "      <td>1662307.75</td>\n",
       "    </tr>\n",
       "    <tr>\n",
       "      <th>2</th>\n",
       "      <td>Alpine</td>\n",
       "      <td>1094.00</td>\n",
       "    </tr>\n",
       "    <tr>\n",
       "      <th>3</th>\n",
       "      <td>Amador</td>\n",
       "      <td>38778.75</td>\n",
       "    </tr>\n",
       "    <tr>\n",
       "      <th>4</th>\n",
       "      <td>Butte</td>\n",
       "      <td>226113.00</td>\n",
       "    </tr>\n",
       "    <tr>\n",
       "      <th>5</th>\n",
       "      <td>Calaveras</td>\n",
       "      <td>45651.50</td>\n",
       "    </tr>\n",
       "  </tbody>\n",
       "</table>\n",
       "</div>"
      ],
      "text/plain": [
       "      county  avg_population\n",
       "1    Alameda      1662307.75\n",
       "2     Alpine         1094.00\n",
       "3     Amador        38778.75\n",
       "4      Butte       226113.00\n",
       "5  Calaveras        45651.50"
      ]
     },
     "execution_count": 14,
     "metadata": {},
     "output_type": "execute_result"
    }
   ],
   "source": [
    "county_pop = pd.read_excel(os.path.join(raw_data_path, 'county_populations_2010-2019.xlsx'), skiprows=3, nrows=59)\n",
    "county_pop = county_pop.rename(columns={'Unnamed: 0': 'county'}).drop(0)\n",
    "county_pop['county'] = county_pop['county'].str.extract(r'.(.+) County,')\n",
    "county_pop = county_pop.replace(to_replace=r'[,.]', value='', regex=True)\n",
    "\n",
    "years = [2016, 2017, 2018, 2019]\n",
    "for year in years:\n",
    "    county_pop[year] = pd.to_numeric(county_pop[year], errors='coerce')\n",
    "\n",
    "county_pop['avg_population'] = county_pop[years].mean(axis=1)\n",
    "county_pop = county_pop[['county', 'avg_population']]\n",
    "\n",
    "county_pop.head()"
   ]
  },
  {
   "cell_type": "code",
   "execution_count": 18,
   "id": "39b52c64-6477-44f2-97ac-460da0ea887d",
   "metadata": {},
   "outputs": [],
   "source": [
    "# county_pop.to_csv(path_or_buf= os.path.join(output_folder_path, 'ca_county_populations_2016-2019.csv'), index=False)"
   ]
  },
  {
   "cell_type": "markdown",
   "id": "cb31bb4b-5418-43b9-823e-a8bb159d902d",
   "metadata": {},
   "source": [
    "---"
   ]
  },
  {
   "cell_type": "markdown",
   "id": "db51cb49-401e-494b-92b2-85a4b1c2b71d",
   "metadata": {},
   "source": [
    "### Asthma Prevalences"
   ]
  },
  {
   "cell_type": "code",
   "execution_count": 20,
   "id": "250c8674-0200-490b-a93f-d8a177f367fc",
   "metadata": {},
   "outputs": [
    {
     "data": {
      "text/html": [
       "<div>\n",
       "<style scoped>\n",
       "    .dataframe tbody tr th:only-of-type {\n",
       "        vertical-align: middle;\n",
       "    }\n",
       "\n",
       "    .dataframe tbody tr th {\n",
       "        vertical-align: top;\n",
       "    }\n",
       "\n",
       "    .dataframe thead th {\n",
       "        text-align: right;\n",
       "    }\n",
       "</style>\n",
       "<table border=\"1\" class=\"dataframe\">\n",
       "  <thead>\n",
       "    <tr style=\"text-align: right;\">\n",
       "      <th></th>\n",
       "      <th>county</th>\n",
       "      <th>avg_asthma_prevalence</th>\n",
       "    </tr>\n",
       "  </thead>\n",
       "  <tbody>\n",
       "    <tr>\n",
       "      <th>0</th>\n",
       "      <td>Alameda</td>\n",
       "      <td>8.466667</td>\n",
       "    </tr>\n",
       "    <tr>\n",
       "      <th>1</th>\n",
       "      <td>Alpine</td>\n",
       "      <td>9.933333</td>\n",
       "    </tr>\n",
       "    <tr>\n",
       "      <th>2</th>\n",
       "      <td>Amador</td>\n",
       "      <td>9.933333</td>\n",
       "    </tr>\n",
       "    <tr>\n",
       "      <th>3</th>\n",
       "      <td>Butte</td>\n",
       "      <td>11.233333</td>\n",
       "    </tr>\n",
       "    <tr>\n",
       "      <th>4</th>\n",
       "      <td>Calaveras</td>\n",
       "      <td>9.933333</td>\n",
       "    </tr>\n",
       "  </tbody>\n",
       "</table>\n",
       "</div>"
      ],
      "text/plain": [
       "      county  avg_asthma_prevalence\n",
       "0    Alameda               8.466667\n",
       "1     Alpine               9.933333\n",
       "2     Amador               9.933333\n",
       "3      Butte              11.233333\n",
       "4  Calaveras               9.933333"
      ]
     },
     "execution_count": 20,
     "metadata": {},
     "output_type": "execute_result"
    }
   ],
   "source": [
    "prevalences = pd.read_csv(os.path.join(raw_data_path, 'county_asthma_prevalence.csv'))\n",
    "\n",
    "prevalences = prevalences[(prevalences['STRATA'] == 'Total population') & \\\n",
    "            (prevalences['AGE GROUP'] == 'All ages') & \\\n",
    "            (prevalences['YEARS'].isin(['2015–2016', '2017–2018', '2019–2020'])) & \\\n",
    "            (prevalences['COUNTY'] != 'California')]\n",
    "\n",
    "prevalences = prevalences.rename(columns={'COUNTY': 'county',\n",
    "                                          'YEARS': 'years',\n",
    "                                          'AGE GROUP': 'age_group',\n",
    "                                          'CURRENT PREVALENCE': 'asthma_prevalence',\n",
    "                                          'COUNTIES GROUPED': 'counties_grouped'})\n",
    "\n",
    "prevalences = prevalences[['county', 'years', 'age_group', 'asthma_prevalence', 'counties_grouped']]\n",
    "prevalences = pd.DataFrame(prevalences.groupby('county')['asthma_prevalence'].mean().rename('avg_asthma_prevalence')).reset_index()\n",
    "\n",
    "prevalences.head()"
   ]
  },
  {
   "cell_type": "code",
   "execution_count": 22,
   "id": "3186b3f4-9af0-477b-b44f-a001e6532a23",
   "metadata": {},
   "outputs": [],
   "source": [
    "# prevalences.to_csv(path_or_buf= os.path.join(output_folder_path, 'ca_asthma_prevalences_2015-2020.csv'), index=False)"
   ]
  },
  {
   "cell_type": "markdown",
   "id": "0982371a-a722-4732-956f-369a9e9de19b",
   "metadata": {},
   "source": [
    "---"
   ]
  },
  {
   "cell_type": "markdown",
   "id": "59a1d7d2-c82a-4416-b3a1-48e819ca9e6a",
   "metadata": {},
   "source": [
    "### Asthma ED Visit Counts\n",
    "\n",
    "- Values are noted as a rate per 10,000 residents"
   ]
  },
  {
   "cell_type": "code",
   "execution_count": 43,
   "id": "ae740bdb-829c-4ee9-9b69-e022b7ce4fee",
   "metadata": {},
   "outputs": [
    {
     "data": {
      "text/html": [
       "<div>\n",
       "<style scoped>\n",
       "    .dataframe tbody tr th:only-of-type {\n",
       "        vertical-align: middle;\n",
       "    }\n",
       "\n",
       "    .dataframe tbody tr th {\n",
       "        vertical-align: top;\n",
       "    }\n",
       "\n",
       "    .dataframe thead th {\n",
       "        text-align: right;\n",
       "    }\n",
       "</style>\n",
       "<table border=\"1\" class=\"dataframe\">\n",
       "  <thead>\n",
       "    <tr style=\"text-align: right;\">\n",
       "      <th></th>\n",
       "      <th>county</th>\n",
       "      <th>avg_number_ed_visits</th>\n",
       "    </tr>\n",
       "  </thead>\n",
       "  <tbody>\n",
       "    <tr>\n",
       "      <th>0</th>\n",
       "      <td>Alameda</td>\n",
       "      <td>8642.0</td>\n",
       "    </tr>\n",
       "    <tr>\n",
       "      <th>1</th>\n",
       "      <td>Alpine</td>\n",
       "      <td>0.0</td>\n",
       "    </tr>\n",
       "    <tr>\n",
       "      <th>2</th>\n",
       "      <td>Amador</td>\n",
       "      <td>173.0</td>\n",
       "    </tr>\n",
       "    <tr>\n",
       "      <th>3</th>\n",
       "      <td>Butte</td>\n",
       "      <td>882.0</td>\n",
       "    </tr>\n",
       "    <tr>\n",
       "      <th>4</th>\n",
       "      <td>Calaveras</td>\n",
       "      <td>187.8</td>\n",
       "    </tr>\n",
       "  </tbody>\n",
       "</table>\n",
       "</div>"
      ],
      "text/plain": [
       "      county  avg_number_ed_visits\n",
       "0    Alameda                8642.0\n",
       "1     Alpine                   0.0\n",
       "2     Amador                 173.0\n",
       "3      Butte                 882.0\n",
       "4  Calaveras                 187.8"
      ]
     },
     "execution_count": 43,
     "metadata": {},
     "output_type": "execute_result"
    }
   ],
   "source": [
    "ed_visits = pd.read_csv(os.path.join(raw_data_path, 'asthma_ed_visit.csv'))\n",
    "\n",
    "ed_visits = ed_visits[(ed_visits['STRATA'] == 'Total population') & \\\n",
    "            (ed_visits['AGE GROUP'] == 'All ages') & \\\n",
    "            (ed_visits['YEAR'].isin([2015, 2016, 2017, 2018, 2019])) & \\\n",
    "            (ed_visits['COUNTY'] != 'California')]\n",
    "\n",
    "ed_visits = ed_visits.rename(columns={'COUNTY':'county',\n",
    "                                      'NUMBER OF ED VISITS': 'num_ed_visits'})\n",
    "\n",
    "ed_visits = ed_visits[['county', 'num_ed_visits']]\n",
    "ed_visits['num_ed_visits'] = ed_visits['num_ed_visits'].astype(str).replace(to_replace='[,]', value='', regex=True).astype(float)\n",
    "ed_visits = pd.DataFrame(ed_visits.groupby('county')['num_ed_visits'].mean().rename('avg_number_ed_visits')).reset_index()\n",
    "\n",
    "ed_visits.head()"
   ]
  },
  {
   "cell_type": "code",
   "execution_count": 26,
   "id": "5aa2543b-75ac-4042-ac3e-96c046d9cf99",
   "metadata": {},
   "outputs": [],
   "source": [
    "# ed_visits.to_csv(path_or_buf= os.path.join(output_folder_path, 'ca_ed_visit_counts_2015-2019.csv'), index=False)"
   ]
  },
  {
   "cell_type": "markdown",
   "id": "62733606-4aab-4d76-ae19-e5fa97d7a826",
   "metadata": {},
   "source": [
    "---"
   ]
  },
  {
   "cell_type": "code",
   "execution_count": null,
   "id": "babe61ed-385f-46fc-b77d-25801527ef87",
   "metadata": {},
   "outputs": [],
   "source": []
  },
  {
   "cell_type": "markdown",
   "id": "ad73df6d-a90b-4bc7-85e8-7efdf89251a1",
   "metadata": {},
   "source": [
    "---"
   ]
  },
  {
   "cell_type": "markdown",
   "id": "1dae88dc-b35b-4132-87ce-8af0224d56d1",
   "metadata": {},
   "source": []
  },
  {
   "cell_type": "markdown",
   "id": "7794782a-4b6e-4d3c-972c-62f95b65af1e",
   "metadata": {},
   "source": [
    "### Combining Datasets"
   ]
  },
  {
   "cell_type": "code",
   "execution_count": 105,
   "id": "38150814-f270-427f-b380-93c9a5d20a74",
   "metadata": {},
   "outputs": [],
   "source": [
    "county_populations = pd.merge(left=county_pop, right=ca_fips, on='county')\n",
    "county_prevalences = pd.merge(left=county_populations, right=prevalences, on='county')\n",
    "county_prevalences['num_asthma_cases'] = (county_prevalences['avg_asthma_prevalence'] / 100) * county_prevalences['avg_population']\n",
    "\n",
    "full_dataset = pd.merge(left=county_prevalences, right=ed_visits, on='county').drop(columns='state')\n",
    "full_dataset = pd.merge(left=full_dataset, right=pm_data, left_on='fips', right_on='countyfips').drop(columns='countyfips')\n",
    "full_dataset = pd.merge(left=full_dataset, right=oz_data, left_on='fips', right_on='countyfips').drop(columns='countyfips')\n"
   ]
  },
  {
   "cell_type": "code",
   "execution_count": null,
   "id": "cb547c2b-62a9-42af-8206-8ebb70fab30d",
   "metadata": {},
   "outputs": [],
   "source": []
  },
  {
   "cell_type": "code",
   "execution_count": 107,
   "id": "41fcb2cd-e098-4bdd-8c70-4cc03abec1ca",
   "metadata": {},
   "outputs": [
    {
     "data": {
      "text/html": [
       "<div>\n",
       "<style scoped>\n",
       "    .dataframe tbody tr th:only-of-type {\n",
       "        vertical-align: middle;\n",
       "    }\n",
       "\n",
       "    .dataframe tbody tr th {\n",
       "        vertical-align: top;\n",
       "    }\n",
       "\n",
       "    .dataframe thead th {\n",
       "        text-align: right;\n",
       "    }\n",
       "</style>\n",
       "<table border=\"1\" class=\"dataframe\">\n",
       "  <thead>\n",
       "    <tr style=\"text-align: right;\">\n",
       "      <th></th>\n",
       "      <th>county</th>\n",
       "      <th>avg_population</th>\n",
       "      <th>fips</th>\n",
       "      <th>avg_asthma_prevalence</th>\n",
       "      <th>num_asthma_cases</th>\n",
       "      <th>avg_number_ed_visits</th>\n",
       "      <th>DS_PM_pred</th>\n",
       "      <th>DS_PM_stdd</th>\n",
       "      <th>DS_O3_pred</th>\n",
       "      <th>DS_O3_stdd</th>\n",
       "    </tr>\n",
       "  </thead>\n",
       "  <tbody>\n",
       "    <tr>\n",
       "      <th>0</th>\n",
       "      <td>Alameda</td>\n",
       "      <td>1662307.75</td>\n",
       "      <td>6001</td>\n",
       "      <td>8.466667</td>\n",
       "      <td>140742.056167</td>\n",
       "      <td>8642.0</td>\n",
       "      <td>10.095240</td>\n",
       "      <td>3.627715</td>\n",
       "      <td>31.868148</td>\n",
       "      <td>3.520695</td>\n",
       "    </tr>\n",
       "    <tr>\n",
       "      <th>1</th>\n",
       "      <td>Alpine</td>\n",
       "      <td>1094.00</td>\n",
       "      <td>6003</td>\n",
       "      <td>9.933333</td>\n",
       "      <td>108.670667</td>\n",
       "      <td>0.0</td>\n",
       "      <td>6.623339</td>\n",
       "      <td>2.938605</td>\n",
       "      <td>46.396664</td>\n",
       "      <td>5.339098</td>\n",
       "    </tr>\n",
       "    <tr>\n",
       "      <th>2</th>\n",
       "      <td>Amador</td>\n",
       "      <td>38778.75</td>\n",
       "      <td>6005</td>\n",
       "      <td>9.933333</td>\n",
       "      <td>3852.022500</td>\n",
       "      <td>173.0</td>\n",
       "      <td>8.862555</td>\n",
       "      <td>3.681368</td>\n",
       "      <td>44.023391</td>\n",
       "      <td>4.515013</td>\n",
       "    </tr>\n",
       "    <tr>\n",
       "      <th>3</th>\n",
       "      <td>Butte</td>\n",
       "      <td>226113.00</td>\n",
       "      <td>6007</td>\n",
       "      <td>11.233333</td>\n",
       "      <td>25400.027000</td>\n",
       "      <td>882.0</td>\n",
       "      <td>10.568623</td>\n",
       "      <td>4.342973</td>\n",
       "      <td>42.151413</td>\n",
       "      <td>4.400108</td>\n",
       "    </tr>\n",
       "    <tr>\n",
       "      <th>4</th>\n",
       "      <td>Calaveras</td>\n",
       "      <td>45651.50</td>\n",
       "      <td>6009</td>\n",
       "      <td>9.933333</td>\n",
       "      <td>4534.715667</td>\n",
       "      <td>187.8</td>\n",
       "      <td>9.474165</td>\n",
       "      <td>3.958912</td>\n",
       "      <td>44.858142</td>\n",
       "      <td>4.677322</td>\n",
       "    </tr>\n",
       "  </tbody>\n",
       "</table>\n",
       "</div>"
      ],
      "text/plain": [
       "      county  avg_population  fips  avg_asthma_prevalence  num_asthma_cases  \\\n",
       "0    Alameda      1662307.75  6001               8.466667     140742.056167   \n",
       "1     Alpine         1094.00  6003               9.933333        108.670667   \n",
       "2     Amador        38778.75  6005               9.933333       3852.022500   \n",
       "3      Butte       226113.00  6007              11.233333      25400.027000   \n",
       "4  Calaveras        45651.50  6009               9.933333       4534.715667   \n",
       "\n",
       "   avg_number_ed_visits  DS_PM_pred  DS_PM_stdd  DS_O3_pred  DS_O3_stdd  \n",
       "0                8642.0   10.095240    3.627715   31.868148    3.520695  \n",
       "1                   0.0    6.623339    2.938605   46.396664    5.339098  \n",
       "2                 173.0    8.862555    3.681368   44.023391    4.515013  \n",
       "3                 882.0   10.568623    4.342973   42.151413    4.400108  \n",
       "4                 187.8    9.474165    3.958912   44.858142    4.677322  "
      ]
     },
     "execution_count": 107,
     "metadata": {},
     "output_type": "execute_result"
    }
   ],
   "source": [
    "full_dataset.head()"
   ]
  },
  {
   "cell_type": "code",
   "execution_count": 108,
   "id": "6b844173-7444-419e-af3f-f4116a49a8cd",
   "metadata": {},
   "outputs": [],
   "source": [
    "full_dataset.to_csv(path_or_buf= os.path.join(output_folder_path, 'full_dataset.csv'), index=False)"
   ]
  },
  {
   "cell_type": "code",
   "execution_count": null,
   "id": "44d15386-dcb6-414e-b155-3a1c9dd87126",
   "metadata": {},
   "outputs": [],
   "source": []
  }
 ],
 "metadata": {
  "kernelspec": {
   "display_name": "Python 3 (ipykernel)",
   "language": "python",
   "name": "python3"
  },
  "language_info": {
   "codemirror_mode": {
    "name": "ipython",
    "version": 3
   },
   "file_extension": ".py",
   "mimetype": "text/x-python",
   "name": "python",
   "nbconvert_exporter": "python",
   "pygments_lexer": "ipython3",
   "version": "3.11.11"
  }
 },
 "nbformat": 4,
 "nbformat_minor": 5
}
