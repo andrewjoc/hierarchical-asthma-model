{
 "cells": [
  {
   "cell_type": "markdown",
   "id": "acb48c40-a746-4cbc-86b1-81c92ff8d6cf",
   "metadata": {},
   "source": [
    "All data in this section are queried for the state of California within the time period 2016 - 2019. In some cases, metrics are calculated as an interval between 2 years (e.g. 2015-2016). In this case, the years 2015 and 2020 are also included."
   ]
  },
  {
   "cell_type": "markdown",
   "id": "781c0ae2-63ec-49eb-a100-29add6ec682c",
   "metadata": {},
   "source": [
    "---"
   ]
  },
  {
   "cell_type": "markdown",
   "id": "279be227-b7e1-4513-8810-630d810097fb",
   "metadata": {},
   "source": [
    "# County PM2.5 Data (2016 - 2020)"
   ]
  },
  {
   "cell_type": "markdown",
   "id": "12cca804-2ffd-4283-a16c-c19db872ab8a",
   "metadata": {},
   "source": [
    "- **Source**: Centers for Disease Control\n",
    "- **Title**: [Daily Census Tract-Level PM2.5 Concentrations, 2016 - 2020\n",
    "](https://data.cdc.gov/Environmental-Health-Toxicology/Daily-Census-Tract-Level-PM2-5-Concentrations-2016/96sd-hxdt/about_data)"
   ]
  },
  {
   "cell_type": "markdown",
   "id": "8f25f9c2-3f50-4e92-a294-f6a25354eb85",
   "metadata": {},
   "source": [
    "### Grouped by `countyfips`\n",
    "\n",
    "- **Query**:\n",
    "    - `statefips` is one of 6\n",
    "    - group by `countyfips`\n",
    "    - aggregate by `DS_PM_pred`, average of rows, API field name: `avg_ds_pm_pred`\n",
    "    - aggregate by `DS_PM_stdd`, average of rows, API field name: `avg_ds_pm_pred`"
   ]
  },
  {
   "cell_type": "code",
   "execution_count": 19,
   "id": "dd42df88-7373-449a-9477-344f487b254f",
   "metadata": {},
   "outputs": [],
   "source": [
    "# pm25_df1 = pd.read_json(pm25_query1)"
   ]
  },
  {
   "cell_type": "markdown",
   "id": "15b64470-5d61-47ea-b276-02c65d9bffbb",
   "metadata": {},
   "source": [
    "### Grouped by `year` and `countyfips`\n",
    "\n",
    "- **Query**:\n",
    "    - `statefips` is one of 6\n",
    "    - group `year` and `countyfips`\n",
    "    - aggregate by `DS_PM_pred`, average of rows, API field name: `avg_ds_pm_pred`\n",
    "    - aggregate by `DS_PM_stdd`, average of rows, API field name: `avg_ds_pm_pred`"
   ]
  },
  {
   "cell_type": "code",
   "execution_count": 20,
   "id": "63de87e2-8b29-4984-a896-fd59316d16ff",
   "metadata": {
    "scrolled": true
   },
   "outputs": [],
   "source": [
    "# pm25_df2 = pd.read_json(pm25_query2)"
   ]
  },
  {
   "cell_type": "markdown",
   "id": "8221de11-47df-42ab-9c0b-709e730ada5e",
   "metadata": {},
   "source": [
    "<br>"
   ]
  },
  {
   "cell_type": "markdown",
   "id": "dc8142c7-9920-4ad7-9233-99c135b7b952",
   "metadata": {},
   "source": [
    "---"
   ]
  },
  {
   "cell_type": "markdown",
   "id": "6bfaf51b-5597-42de-a9c3-0e904c7d956a",
   "metadata": {},
   "source": [
    "# County Ozone Data (2016 - 2020)"
   ]
  },
  {
   "cell_type": "markdown",
   "id": "602a5816-2348-4b21-9e14-7e4d08343afb",
   "metadata": {},
   "source": [
    "- **Source**: Centers for Disease Control\n",
    "- **Title**: [Daily Census Tract-Level Ozone Concentrations, 2016 - 2020](https://data.cdc.gov/Environmental-Health-Toxicology/Daily-Census-Tract-Level-PM2-5-Concentrations-2016/96sd-hxdt/about_data)"
   ]
  },
  {
   "cell_type": "markdown",
   "id": "51246a9f-7d30-43cb-ab54-32ea24f78449",
   "metadata": {},
   "source": [
    "### Grouped by `countyfips`\n",
    "\n",
    "- **Query**:\n",
    "    - `statefips` is one of 6\n",
    "    - group by `countyfips`\n",
    "    - aggregate by `DS_O3_pred`, average of rows, API field name: `avg_ds_o3_pred`\n",
    "    - aggregate by `DS_O3_stdd`, average of rows, API field name: `avg_ds_o3_stdd`"
   ]
  },
  {
   "cell_type": "code",
   "execution_count": 21,
   "id": "5fae7212-0a93-4fca-b42e-9ab9751e5dc2",
   "metadata": {},
   "outputs": [],
   "source": [
    "# oz_df1 = pd.read_json(oz_query1)"
   ]
  },
  {
   "cell_type": "markdown",
   "id": "7883e8ac-95a8-44d3-b368-570384a2599d",
   "metadata": {},
   "source": [
    "### Grouped by `countyfips` and `year`\n",
    "\n",
    "- **Query**:\n",
    "    - `statefips` is one of 6\n",
    "    - group `year` and `countyfips`\n",
    "    - aggregate by `DS_O3_pred`, average of rows, API field name: `avg_ds_o3_pred`\n",
    "    - aggregate by `DS_O3_stdd`, average of rows, API field name: `avg_ds_o3_stdd`"
   ]
  },
  {
   "cell_type": "code",
   "execution_count": 22,
   "id": "9e628067-7585-491d-9e08-fbcdcd2dd0aa",
   "metadata": {},
   "outputs": [],
   "source": [
    "# oz_df2 = pd.read_json(oz_query2)"
   ]
  },
  {
   "cell_type": "markdown",
   "id": "b45e86a3-d335-452d-81cd-e35497e618ea",
   "metadata": {},
   "source": [
    "<br>"
   ]
  },
  {
   "cell_type": "markdown",
   "id": "724e5205-ed19-4c99-a550-5f370b3ed824",
   "metadata": {},
   "source": [
    "---"
   ]
  },
  {
   "cell_type": "markdown",
   "id": "c9e3250d-e02c-4c20-b1fc-bd61711260b6",
   "metadata": {},
   "source": [
    "# County Asthma Prevalence (2015-2020)"
   ]
  },
  {
   "cell_type": "markdown",
   "id": "209f85bd-6918-4e8d-a22a-d096a59746fc",
   "metadata": {},
   "source": [
    "Source: California Health Interview Survey (CIHS, available via CalHHS)  \n",
    "Title: [CHIS Data-Current Asthma Prevalence by County 2015-2022](https://data.chhs.ca.gov/dataset/asthma-prevalence/resource/a440b99b-ccc6-473c-bea1-2baf36b05dbe?filters=STRATA%3ATotal%20population%7CAGE%20GROUP%3AAll%20ages%7CYEARS%3A2015–2016%7CYEARS%3A2017–2018%7CYEARS%3A2019–2020)"
   ]
  },
  {
   "cell_type": "markdown",
   "id": "764c71b8-18f5-4dc4-a708-807cd4b94bb3",
   "metadata": {},
   "source": [
    "- Query:\n",
    "    - STRATA: Total population\n",
    "    - AGE GROUP: All ages\n",
    "    - YEARS: 2015-2016, 2017-2018, 2019-2020"
   ]
  },
  {
   "cell_type": "markdown",
   "id": "56f9b863-3602-48ee-9abd-48cddc066134",
   "metadata": {},
   "source": [
    "---"
   ]
  },
  {
   "cell_type": "markdown",
   "id": "8df053c4-6b88-4173-abfc-d85488108de0",
   "metadata": {},
   "source": [
    "# County ED Visit Counts (2015 - 2022)"
   ]
  },
  {
   "cell_type": "markdown",
   "id": "13424b32-434f-4746-8367-f4b8467a4651",
   "metadata": {},
   "source": [
    "Source: California Department of Health Care Access and Information emergency department databases  \n",
    "Title: [Asthma ED Visit Rates by County 2015-Present](https://data.chhs.ca.gov/dataset/asthma-emergency-department-visit-rates/resource/94d84508-8046-40a7-b8d9-0ed73b13b697)"
   ]
  },
  {
   "cell_type": "markdown",
   "id": "18e99f90-7a84-41dd-aa2a-caa3db77f474",
   "metadata": {},
   "source": [
    "---"
   ]
  },
  {
   "cell_type": "markdown",
   "id": "52372b2d-83f7-4aa8-adea-51867b8311a6",
   "metadata": {},
   "source": [
    "# County Population (2010 - 2019)"
   ]
  },
  {
   "cell_type": "markdown",
   "id": "9bf4f619-0bad-477a-aa1c-31e785c6506f",
   "metadata": {},
   "source": [
    "Source: US Census Bureau  \n",
    "Title: [Annual Estimates of the Resident Population for Counties: April 1, 2010 to July 1, 2019](https://www.census.gov/data/datasets/time-series/demo/popest/2010s-counties-total.html#par_textimage_70769902) (California)"
   ]
  }
 ],
 "metadata": {
  "kernelspec": {
   "display_name": "Python 3 (ipykernel)",
   "language": "python",
   "name": "python3"
  },
  "language_info": {
   "codemirror_mode": {
    "name": "ipython",
    "version": 3
   },
   "file_extension": ".py",
   "mimetype": "text/x-python",
   "name": "python",
   "nbconvert_exporter": "python",
   "pygments_lexer": "ipython3",
   "version": "3.11.11"
  }
 },
 "nbformat": 4,
 "nbformat_minor": 5
}
